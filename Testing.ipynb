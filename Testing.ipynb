{
  "nbformat": 4,
  "nbformat_minor": 0,
  "metadata": {
    "colab": {
      "name": "Testing.ipynb",
      "provenance": [],
      "collapsed_sections": [
        "dNprFcq27MBj",
        "BM7j43L-8Hl0",
        "vN00favYA8_p"
      ],
      "toc_visible": true,
      "authorship_tag": "ABX9TyNg0rgRoGmennDN0JfHAzY8",
      "include_colab_link": true
    },
    "kernelspec": {
      "name": "python3",
      "display_name": "Python 3"
    }
  },
  "cells": [
    {
      "cell_type": "markdown",
      "metadata": {
        "id": "view-in-github",
        "colab_type": "text"
      },
      "source": [
        "<a href=\"https://colab.research.google.com/github/birdalugureren/Testing-in-Python/blob/master/Testing.ipynb\" target=\"_parent\"><img src=\"https://colab.research.google.com/assets/colab-badge.svg\" alt=\"Open In Colab\"/></a>"
      ]
    },
    {
      "cell_type": "markdown",
      "metadata": {
        "id": "dNprFcq27MBj",
        "colab_type": "text"
      },
      "source": [
        "## Introduction\n",
        "There are 2 types of tests:\n",
        "1. An integration test checks that components in your application operate with each other.\n",
        "2. A unit test checks a small component in your application."
      ]
    },
    {
      "cell_type": "markdown",
      "metadata": {
        "id": "OT-teGj93Esp",
        "colab_type": "text"
      },
      "source": [
        "This will not output anything on the REPL because the values are correct."
      ]
    },
    {
      "cell_type": "code",
      "metadata": {
        "id": "482qreAy2v38",
        "colab_type": "code",
        "colab": {}
      },
      "source": [
        "assert sum([1,2,3]) == 6, \"Should be 6\""
      ],
      "execution_count": null,
      "outputs": []
    },
    {
      "cell_type": "markdown",
      "metadata": {
        "id": "18msoLGn3Hvj",
        "colab_type": "text"
      },
      "source": [
        "If the result from sum() is incorrect, this will fail with an AssertionError and the message \"Should be 6\". "
      ]
    },
    {
      "cell_type": "code",
      "metadata": {
        "id": "-RaTG1BL25JD",
        "colab_type": "code",
        "colab": {
          "base_uri": "https://localhost:8080/",
          "height": 166
        },
        "outputId": "f5013105-445c-44ce-e654-a14e0a7d5c49"
      },
      "source": [
        "assert sum([1, 1, 1]) == 6, \"Should be 6\""
      ],
      "execution_count": null,
      "outputs": [
        {
          "output_type": "error",
          "ename": "AssertionError",
          "evalue": "ignored",
          "traceback": [
            "\u001b[0;31m---------------------------------------------------------------------------\u001b[0m",
            "\u001b[0;31mAssertionError\u001b[0m                            Traceback (most recent call last)",
            "\u001b[0;32m<ipython-input-2-fa10351dd942>\u001b[0m in \u001b[0;36m<module>\u001b[0;34m()\u001b[0m\n\u001b[0;32m----> 1\u001b[0;31m \u001b[0;32massert\u001b[0m \u001b[0msum\u001b[0m\u001b[0;34m(\u001b[0m\u001b[0;34m[\u001b[0m\u001b[0;36m1\u001b[0m\u001b[0;34m,\u001b[0m \u001b[0;36m1\u001b[0m\u001b[0;34m,\u001b[0m \u001b[0;36m1\u001b[0m\u001b[0;34m]\u001b[0m\u001b[0;34m)\u001b[0m \u001b[0;34m==\u001b[0m \u001b[0;36m6\u001b[0m\u001b[0;34m,\u001b[0m \u001b[0;34m\"Should be 6\"\u001b[0m\u001b[0;34m\u001b[0m\u001b[0;34m\u001b[0m\u001b[0m\n\u001b[0m",
            "\u001b[0;31mAssertionError\u001b[0m: Should be 6"
          ]
        }
      ]
    },
    {
      "cell_type": "markdown",
      "metadata": {
        "id": "FJdXS67R3Sz8",
        "colab_type": "text"
      },
      "source": [
        "Instead of testing on the REPL, you’ll want to put this into a new Python file called test_sum.py and execute it again:"
      ]
    },
    {
      "cell_type": "code",
      "metadata": {
        "id": "3xnRROOQ3spl",
        "colab_type": "code",
        "colab": {
          "base_uri": "https://localhost:8080/",
          "height": 34
        },
        "outputId": "2b73699a-6fcb-4efe-ebb8-367688869ef4"
      },
      "source": [
        "! python test_sum.py"
      ],
      "execution_count": 1,
      "outputs": [
        {
          "output_type": "stream",
          "text": [
            "python3: can't open file 'test_sum.py': [Errno 2] No such file or directory\n"
          ],
          "name": "stdout"
        }
      ]
    },
    {
      "cell_type": "markdown",
      "metadata": {
        "id": "uStjFv2I4wH9",
        "colab_type": "text"
      },
      "source": [
        "You tested with a list. Now test with a tuple as well."
      ]
    },
    {
      "cell_type": "code",
      "metadata": {
        "id": "z4jIIFue3s4v",
        "colab_type": "code",
        "colab": {
          "base_uri": "https://localhost:8080/",
          "height": 122
        },
        "outputId": "12900929-5970-47d8-8af8-deebc22c8eca"
      },
      "source": [
        "! python test_sum_2.py"
      ],
      "execution_count": null,
      "outputs": [
        {
          "output_type": "stream",
          "text": [
            "Traceback (most recent call last):\n",
            "  File \"test_sum_2.py\", line 9, in <module>\n",
            "    test_sum_tuple()\n",
            "  File \"test_sum_2.py\", line 5, in test_sum_tuple\n",
            "    assert sum((1, 2, 2)) == 6, \"Should be 6\"\n",
            "AssertionError: Should be 6\n"
          ],
          "name": "stdout"
        }
      ]
    },
    {
      "cell_type": "markdown",
      "metadata": {
        "id": "L-yetUKl5Fcl",
        "colab_type": "text"
      },
      "source": [
        "Writing tests in this way is okay for a simple check, but what if more than one fails? "
      ]
    },
    {
      "cell_type": "markdown",
      "metadata": {
        "id": "ZGsypDvq6cwt",
        "colab_type": "text"
      },
      "source": [
        "## Test Runner\n",
        "The test runner is a special application designed for running tests, checking the output, and giving you tools for debugging and diagnosing tests and applications."
      ]
    },
    {
      "cell_type": "markdown",
      "metadata": {
        "id": "BM7j43L-8Hl0",
        "colab_type": "text"
      },
      "source": [
        "### Unittest\n",
        "unittest contains both a testing framework and a test runner. unittest requires that:\n",
        "- You put your tests into classes as methods\n",
        "- You use a series of special assertion methods in the unittest.TestCase class instead of the built-in assert statement\n",
        "\n",
        "Let's create a test_sum_unittest.py file by following the steps below:\n",
        "1. Import unittest from the standard library\n",
        "2. Create a class called TestSum that inherits from the TestCase class\n",
        "3. Convert the test functions into methods by adding self as the first argument\n",
        "4. Change the assertions to use the self.assertEqual() method on the TestCase class\n",
        "5. Change the command-line entry point to call unittest.main()\n",
        "\n",
        "one success (indicated with .) and one failure (indicated with F):"
      ]
    },
    {
      "cell_type": "code",
      "metadata": {
        "id": "gjP1eLM36X2b",
        "colab_type": "code",
        "colab": {
          "base_uri": "https://localhost:8080/",
          "height": 238
        },
        "outputId": "b581e417-26c5-49f2-c85a-ea774020c538"
      },
      "source": [
        "! python test_sum_unittest.py"
      ],
      "execution_count": null,
      "outputs": [
        {
          "output_type": "stream",
          "text": [
            ".F\n",
            "======================================================================\n",
            "FAIL: test_sum_tuple (__main__.TestSum)\n",
            "----------------------------------------------------------------------\n",
            "Traceback (most recent call last):\n",
            "  File \"test_sum_unittest.py\", line 8, in test_sum_tuple\n",
            "    self.assertEqual(sum((1,2,2)), 6, 'Should be 6')\n",
            "AssertionError: 5 != 6 : Should be 6\n",
            "\n",
            "----------------------------------------------------------------------\n",
            "Ran 2 tests in 0.000s\n",
            "\n",
            "FAILED (failures=1)\n"
          ],
          "name": "stdout"
        }
      ]
    },
    {
      "cell_type": "markdown",
      "metadata": {
        "id": "vN00favYA8_p",
        "colab_type": "text"
      },
      "source": [
        "### Nose2\n",
        "You may find that over time, as you write hundreds or even thousands of tests for your application, it becomes increasingly hard to understand and use the output from unittest. nose2 is compatible with any tests written using the unittest framework and can be used as a drop-in replacement for the unittest test runner."
      ]
    },
    {
      "cell_type": "code",
      "metadata": {
        "id": "sSwBQqDg5F7p",
        "colab_type": "code",
        "colab": {
          "base_uri": "https://localhost:8080/",
          "height": 649
        },
        "outputId": "bfe02873-1fff-4297-f20f-115a207a2a3c"
      },
      "source": [
        "! pip install nose2\n",
        "! python -m nose2"
      ],
      "execution_count": null,
      "outputs": [
        {
          "output_type": "stream",
          "text": [
            "Collecting nose2\n",
            "\u001b[?25l  Downloading https://files.pythonhosted.org/packages/b9/ad/27561695e863f5df064f1715864afb3ebe723a6e19e875eca85570e0a7cd/nose2-0.9.2-py2.py3-none-any.whl (137kB)\n",
            "\u001b[K     |████████████████████████████████| 143kB 2.7MB/s \n",
            "\u001b[?25hCollecting coverage>=4.4.1\n",
            "\u001b[?25l  Downloading https://files.pythonhosted.org/packages/2a/3e/fc18ecef69f174c13493576f46966053c1da07fd8721962530dc1a10b1ca/coverage-5.1-cp36-cp36m-manylinux1_x86_64.whl (227kB)\n",
            "\u001b[K     |████████████████████████████████| 235kB 7.7MB/s \n",
            "\u001b[?25hRequirement already satisfied: six>=1.7 in /usr/local/lib/python3.6/dist-packages (from nose2) (1.12.0)\n",
            "\u001b[31mERROR: datascience 0.10.6 has requirement coverage==3.7.1, but you'll have coverage 5.1 which is incompatible.\u001b[0m\n",
            "\u001b[31mERROR: datascience 0.10.6 has requirement folium==0.2.1, but you'll have folium 0.8.3 which is incompatible.\u001b[0m\n",
            "\u001b[31mERROR: coveralls 0.5 has requirement coverage<3.999,>=3.6, but you'll have coverage 5.1 which is incompatible.\u001b[0m\n",
            "Installing collected packages: coverage, nose2\n",
            "  Found existing installation: coverage 3.7.1\n",
            "    Uninstalling coverage-3.7.1:\n",
            "      Successfully uninstalled coverage-3.7.1\n",
            "Successfully installed coverage-5.1 nose2-0.9.2\n",
            ".F..F\n",
            "======================================================================\n",
            "FAIL: test_sum_tuple (test_sum_unittest.TestSum)\n",
            "----------------------------------------------------------------------\n",
            "Traceback (most recent call last):\n",
            "  File \"/content/test_sum_unittest.py\", line 8, in test_sum_tuple\n",
            "    self.assertEqual(sum((1,2,2)), 6, 'Should be 6')\n",
            "AssertionError: 5 != 6 : Should be 6\n",
            "\n",
            "======================================================================\n",
            "FAIL: test_sum_2.transplant_class.<locals>.C (test_sum_tuple)\n",
            "----------------------------------------------------------------------\n",
            "Traceback (most recent call last):\n",
            "  File \"/content/test_sum_2.py\", line 5, in test_sum_tuple\n",
            "    assert sum((1, 2, 2)) == 6, \"Should be 6\"\n",
            "AssertionError: Should be 6\n",
            "\n",
            "----------------------------------------------------------------------\n",
            "Ran 5 tests in 0.003s\n",
            "\n",
            "FAILED (failures=2)\n"
          ],
          "name": "stdout"
        }
      ]
    },
    {
      "cell_type": "markdown",
      "metadata": {
        "id": "pg-qRHzmBuzS",
        "colab_type": "text"
      },
      "source": [
        "### pytest\n",
        "\n"
      ]
    },
    {
      "cell_type": "markdown",
      "metadata": {
        "id": "WJ2Hd81WCe0j",
        "colab_type": "text"
      },
      "source": [
        "pytest supports execution of unittest test cases. The real advantage of pytest comes by writing pytest test cases. pytest test cases are a series of functions in a Python file starting with the name test_."
      ]
    },
    {
      "cell_type": "code",
      "metadata": {
        "id": "5hfUNzn-45Ga",
        "colab_type": "code",
        "colab": {
          "base_uri": "https://localhost:8080/",
          "height": 136
        },
        "outputId": "4c7775b0-e05c-4a56-aacd-398bcfd147c7"
      },
      "source": [
        "! pytest test_sample.py"
      ],
      "execution_count": null,
      "outputs": [
        {
          "output_type": "stream",
          "text": [
            "\u001b[1m============================= test session starts ==============================\u001b[0m\n",
            "platform linux2 -- Python 2.7.17, pytest-3.6.4, py-1.8.0, pluggy-0.7.1\n",
            "rootdir: /content, inifile:\n",
            "\n",
            "\u001b[1m\u001b[33m========================= no tests ran in 0.00 seconds =========================\u001b[0m\n",
            "\u001b[31mERROR: file not found: test_sample.py\n",
            "\u001b[0m\n"
          ],
          "name": "stdout"
        }
      ]
    },
    {
      "cell_type": "code",
      "metadata": {
        "id": "w6hzYtI73tGK",
        "colab_type": "code",
        "colab": {}
      },
      "source": [
        ""
      ],
      "execution_count": null,
      "outputs": []
    },
    {
      "cell_type": "code",
      "metadata": {
        "id": "Hx2Sc1eM3tJA",
        "colab_type": "code",
        "colab": {}
      },
      "source": [
        ""
      ],
      "execution_count": null,
      "outputs": []
    },
    {
      "cell_type": "code",
      "metadata": {
        "id": "lgTw6ph23tK3",
        "colab_type": "code",
        "colab": {}
      },
      "source": [
        ""
      ],
      "execution_count": null,
      "outputs": []
    }
  ]
}